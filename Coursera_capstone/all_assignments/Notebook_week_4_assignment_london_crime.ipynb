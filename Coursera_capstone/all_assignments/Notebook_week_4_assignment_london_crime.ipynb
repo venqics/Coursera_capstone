{
  "nbformat": 4,
  "nbformat_minor": 0,
  "metadata": {
    "colab": {
      "name": "Notebook_week_4_assignment_london_crime",
      "provenance": [],
      "authorship_tag": "ABX9TyMlB+eXgew+QmZ3E8OhOqDw",
      "include_colab_link": true
    },
    "kernelspec": {
      "name": "python3",
      "display_name": "Python 3"
    }
  },
  "cells": [
    {
      "cell_type": "markdown",
      "metadata": {
        "id": "view-in-github",
        "colab_type": "text"
      },
      "source": [
        "<a href=\"https://colab.research.google.com/github/venqics/Coursera_capstone/blob/master/Notebook_week_4_assignment_london_crime.ipynb\" target=\"_parent\"><img src=\"https://colab.research.google.com/assets/colab-badge.svg\" alt=\"Open In Colab\"/></a>"
      ]
    },
    {
      "cell_type": "code",
      "metadata": {
        "id": "Ipk9R7pwXynF",
        "colab_type": "code",
        "colab": {}
      },
      "source": [
        ""
      ],
      "execution_count": 0,
      "outputs": []
    },
    {
      "cell_type": "markdown",
      "metadata": {
        "id": "Bm8dyqm8FD08",
        "colab_type": "text"
      },
      "source": [
        "## Introduction: Business Problem <a name=\"introduction\"></a>"
      ]
    },
    {
      "cell_type": "markdown",
      "metadata": {
        "id": "dIJQm2HXFD09",
        "colab_type": "text"
      },
      "source": [
        "# This project aims to select the safest borough in London based on the **total crimes**, explore the **neighborhoods** of that borough to find the **10 most common venues** in each neighborhood and finally cluster the neighborhoods using **k-mean clustering**.\n",
        "\n",
        "This report will be targeted to people who are looking to **relocate to London**. Inorder to finalise a neighborhood to hunt for an apartment, **safety** is considered as a top concern when moving to a new place. If you don’t feel safe in your own home, you’re not going to be able to enjoy living there. The **crime statistics** will provide an insight into this issue.\n",
        "\n",
        "We will focus on the safest borough and explore its neighborhoods and the 10 most common venues in each neighborhood so that the best neighborhood suited to an individual's needs can be selected."
      ]
    },
    {
      "cell_type": "markdown",
      "metadata": {
        "id": "dDLHoD51FD0-",
        "colab_type": "text"
      },
      "source": [
        "## Data <a name=\"data\"></a>\n",
        "\n",
        "Based on definition of our problem, factors that will influence our decision are:\n",
        "* The total number of crimes commited in each of the borough during the last year.\n",
        "* The most common venues in each of the neighborhood in the safest borough selected.\n",
        "\n",
        "Following data sources will be needed to extract/generate the required information:\n",
        "\n",
        "- [**Part 1**: Preprocessing a real world data set from Kaggle showing the London Crimes from 2008 to 2016](#part1):  A dataset consisting of the crime statistics of each borough in London obtained from Kaggle\n",
        "- [**Part 2**: Scraping additional information of the different Boroughs in London from a Wikipedia page.](#part2): More information regarding the boroughs of London is scraped using the Beautifulsoup library\n",
        "- [**Part 3**: Creating a new dataset of the Neighborhoods of the safest borough in London and generating their co-ordinates.](#part3): Co-ordinate of neighborhood will be obtained using **Google Maps API geocoding**\n"
      ]
    },
    {
      "cell_type": "markdown",
      "metadata": {
        "id": "TDJ_ijV-FD1A",
        "colab_type": "text"
      },
      "source": [
        "### Part 1: Preprocessing a real world data set from Kaggle showing the London Crimes from 2008 to 2016<a name=\"part1\"></a>\n",
        "\n",
        "\n",
        "####  London Crime Data \n",
        "\n",
        "About this file\n",
        "\n",
        "- lsoa_code: code for Lower Super Output Area in Greater London.\n",
        "- borough: Common name for London borough.\n",
        "- major_category: High level categorization of crime\n",
        "- minor_category: Low level categorization of crime within major category.\n",
        "- value: monthly reported count of categorical crime in given borough\n",
        "- year: Year of reported counts, 2008-2016\n",
        "- month: Month of reported counts, 1-12\n",
        "\n",
        "Data set URL: https://www.kaggle.com/jboysen/london-crime\n"
      ]
    }
  ]
}