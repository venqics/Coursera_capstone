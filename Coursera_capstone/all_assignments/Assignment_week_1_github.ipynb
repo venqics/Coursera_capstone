{
  "nbformat": 4,
  "nbformat_minor": 0,
  "metadata": {
    "colab": {
      "name": "Assignment_github",
      "provenance": [],
      "collapsed_sections": [],
      "authorship_tag": "ABX9TyNYSVgS+J6dTY9RXX+0UQWS",
      "include_colab_link": true
    },
    "kernelspec": {
      "name": "python3",
      "display_name": "Python 3"
    }
  },
  "cells": [
    {
      "cell_type": "markdown",
      "metadata": {
        "id": "view-in-github",
        "colab_type": "text"
      },
      "source": [
        "<a href=\"https://colab.research.google.com/github/venqics/Coursera_capstone/blob/master/Assignment_github.ipynb\" target=\"_parent\"><img src=\"https://colab.research.google.com/assets/colab-badge.svg\" alt=\"Open In Colab\"/></a>"
      ]
    },
    {
      "cell_type": "markdown",
      "metadata": {
        "id": "MLou29-wteoN",
        "colab_type": "text"
      },
      "source": [
        "Final capstone project from IBM Applied Data Science Capstone course that is a part of IBM Data Science Professional Certificate specilization.\n",
        "\n",
        "Link : (https://https://www.coursera.org/professional-certificates/ibm-data-science)\n"
      ]
    },
    {
      "cell_type": "code",
      "metadata": {
        "id": "exDKZdCSuET2",
        "colab_type": "code",
        "colab": {}
      },
      "source": [
        "import pandas as pd\n",
        "import numpy as np"
      ],
      "execution_count": 0,
      "outputs": []
    },
    {
      "cell_type": "code",
      "metadata": {
        "id": "IATuzELCukh1",
        "colab_type": "code",
        "colab": {
          "base_uri": "https://localhost:8080/",
          "height": 34
        },
        "outputId": "945839c2-ad16-4f16-c027-d9c325063ced"
      },
      "source": [
        "print(\"Hello Capstone Project Course\")"
      ],
      "execution_count": 2,
      "outputs": [
        {
          "output_type": "stream",
          "text": [
            "Hello Capstone Project Course\n"
          ],
          "name": "stdout"
        }
      ]
    },
    {
      "cell_type": "code",
      "metadata": {
        "id": "Qpx-fhowuquK",
        "colab_type": "code",
        "colab": {}
      },
      "source": [
        ""
      ],
      "execution_count": 0,
      "outputs": []
    }
  ]
}